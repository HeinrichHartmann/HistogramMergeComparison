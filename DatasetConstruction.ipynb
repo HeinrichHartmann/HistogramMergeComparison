{
 "cells": [
  {
   "cell_type": "markdown",
   "metadata": {},
   "source": [
    "# Dataset Construction\n",
    "\n",
    "We start from the ```api`GET`/State``` dataset from the Circonus demo account.\n",
    "This dataset is natively a cricll histogram.\n",
    "We distort it a little by scaling it up and adding jitter, so that the constructed dataset will not align with the circllhist bins."
   ]
  },
  {
   "cell_type": "code",
   "execution_count": 1,
   "metadata": {},
   "outputs": [],
   "source": [
    "%run preamble.py\n",
    "%matplotlib inline\n",
    "circ = circonusdata.CirconusData(config[\"demo\"])\n",
    "\n",
    "from itertools import zip_longest\n",
    "from circllhist import *\n",
    "import numpy as np"
   ]
  },
  {
   "cell_type": "code",
   "execution_count": 110,
   "metadata": {},
   "outputs": [],
   "source": [
    "COUNT=60*24*3\n",
    "PERIOD=60"
   ]
  },
  {
   "cell_type": "code",
   "execution_count": 111,
   "metadata": {},
   "outputs": [],
   "source": [
    "data = circ.caql('''\n",
    "\n",
    "metric:histogram(\"14ab8f94-da3d-4047-f6fc-81cc68e9d4b5\", \"api`GET`/getState\")\n",
    "\n",
    "''', datetime(2018,1,1), PERIOD, COUNT)"
   ]
  },
  {
   "cell_type": "code",
   "execution_count": 112,
   "metadata": {},
   "outputs": [],
   "source": [
    "HL = data['output[0]']"
   ]
  },
  {
   "cell_type": "code",
   "execution_count": 113,
   "metadata": {},
   "outputs": [],
   "source": [
    "%%script false\n",
    "## VISUALS ###\n",
    "fig = plt.figure(figsize=(30,10))\n",
    "fig.subplots_adjust(hspace = .5)\n",
    "for i,H in enumerate(HL):\n",
    "    ax = plt.subplot(len(HL)/6,6,i+1)\n",
    "    ax.set_xlim(0,200)\n",
    "    # ax.set_title(\"Latency distribution at {}:00 .. {}:00 UTC\".format(i,i+1))\n",
    "    H.plot(ax=ax, alpha=0.5)"
   ]
  },
  {
   "cell_type": "markdown",
   "metadata": {},
   "source": [
    "## Reconstruction from Circllhist\n",
    "\n",
    "As a first step we need to reproduce a version of the orignal data.\n",
    "The precise location of the data within the bins has been lost.\n",
    "We will assume a uniform distribution within the bin for reconstruction."
   ]
  },
  {
   "cell_type": "code",
   "execution_count": 114,
   "metadata": {},
   "outputs": [],
   "source": [
    "def rescale(x):\n",
    "    return x * 3.12 + 0.13\n",
    "\n",
    "def sample_bin(b):\n",
    "    return rescale(np.random.normal(b.midpoint, b.width))\n",
    "\n",
    "def reconstruct(H):\n",
    "    out = np.empty(H.count(), dtype=np.float64)\n",
    "    out_i = 0\n",
    "    for b,c in H:\n",
    "        for i in range(c):\n",
    "            out[out_i] = sample_bin(b) #.midpoint # np.random.uniform(low=low, high=high)\n",
    "            out_i += 1\n",
    "    # randomize order\n",
    "    np.random.shuffle(out)\n",
    "    return out"
   ]
  },
  {
   "cell_type": "markdown",
   "metadata": {},
   "source": [
    "### Comparison: Original Data (blue) vs. Randomized Results"
   ]
  },
  {
   "cell_type": "code",
   "execution_count": 115,
   "metadata": {},
   "outputs": [],
   "source": [
    "H = HL[0]\n",
    "L = reconstruct(H)\n",
    "\n",
    "def circllhist_from_valuelist(L):\n",
    "    H = Circllhist()\n",
    "    for v in L: H.insert(v)\n",
    "    return H"
   ]
  },
  {
   "cell_type": "code",
   "execution_count": 116,
   "metadata": {},
   "outputs": [
    {
     "name": "stderr",
     "output_type": "stream",
     "text": [
      "/opt/conda/lib/python3.6/site-packages/matplotlib/cbook/deprecation.py:106: MatplotlibDeprecationWarning: Adding an axes using the same arguments as a previous axes currently reuses the earlier instance.  In a future version, a new instance will always be created and returned.  Meanwhile, this warning can be suppressed, and the future behavior ensured, by passing a unique label to each axes instance.\n",
      "  warnings.warn(message, mplDeprecation, stacklevel=1)\n"
     ]
    },
    {
     "data": {
      "text/plain": [
       "(0, 200)"
      ]
     },
     "execution_count": 116,
     "metadata": {},
     "output_type": "execute_result"
    },
    {
     "data": {
      "image/png": "[encoded data removed]",
      "text/plain": [
       "<matplotlib.figure.Figure at 0x7fafe005deb8>"
      ]
     },
     "metadata": {},
     "output_type": "display_data"
    }
   ],
   "source": [
    "plt.figure(figsize=(20,5))\n",
    "ax = plt.subplot(1,1,1)\n",
    "H.plot(axes=ax,alpha=0.2)\n",
    "circllhist_from_valuelist(reconstruct(H)).plot(axes=ax,alpha=0.2)\n",
    "ax.set_xlim(0,200)"
   ]
  },
  {
   "cell_type": "markdown",
   "metadata": {},
   "source": [
    "# Export\n",
    "\n",
    "Export data in the form:\n",
    "\n",
    "`$batch_id TAB $value NL`\n",
    "\n",
    "to a file `datasets/$count-$period.tsv`\n"
   ]
  },
  {
   "cell_type": "code",
   "execution_count": 117,
   "metadata": {},
   "outputs": [
    {
     "name": "stdout",
     "output_type": "stream",
     "text": [
      "total 54316\n",
      "-rw-r--r-- 1 jovyan users 17905847 May  8 19:37 1440-60.tsv\n",
      "-rw-r--r-- 1 jovyan users 17905847 May  8 19:39 24-3600.tsv\n",
      "-rw-r--r-- 1 jovyan users 17905847 May  8 19:38 60-60.tsv\n"
     ]
    }
   ],
   "source": [
    "!mkdir -p datasets\n",
    "!ls -l datasets"
   ]
  },
  {
   "cell_type": "code",
   "execution_count": 118,
   "metadata": {},
   "outputs": [],
   "source": [
    "RawBatches = [ reconstruct(H) for H in HL if H.count() > 0 ]"
   ]
  },
  {
   "cell_type": "code",
   "execution_count": 119,
   "metadata": {},
   "outputs": [],
   "source": [
    "filename = \"datasets/{}-{}.tsv\".format(COUNT,PERIOD)\n",
    "with open(filename,\"w\") as fh:\n",
    "    for i,R in enumerate(RL):\n",
    "        for v in R:\n",
    "            fh.write(\"{}\\t{}\\n\".format(i, v))"
   ]
  },
  {
   "cell_type": "code",
   "execution_count": 120,
   "metadata": {},
   "outputs": [
    {
     "name": "stdout",
     "output_type": "stream",
     "text": [
      "batch\tvalue\n",
      "0\t58.47879458619706\n",
      "0\t50.604958515790656\n",
      "0\t48.84657448003352\n",
      "0\t69.75324208518364\n",
      "0\t10.060019604429336\n",
      "0\t54.01539933787609\n",
      "0\t83.36068317015517\n",
      "0\t57.1269127909977\n",
      "0\t57.55968720937219\n",
      "0\t52.80021843940975\n",
      "...\n"
     ]
    }
   ],
   "source": [
    "print(\"batch\\tvalue\")\n",
    "!head $filename\n",
    "print(\"...\")"
   ]
  },
  {
   "cell_type": "code",
   "execution_count": 121,
   "metadata": {},
   "outputs": [
    {
     "name": "stdout",
     "output_type": "stream",
     "text": [
      "total 71856\n",
      "-rw-r--r-- 1 jovyan users 17905847 May  8 19:37 1440-60.tsv\n",
      "-rw-r--r-- 1 jovyan users 17905847 May  8 19:39 24-3600.tsv\n",
      "-rw-r--r-- 1 jovyan users 17905847 May  8 19:40 4320-60.tsv\n",
      "-rw-r--r-- 1 jovyan users 17905847 May  8 19:38 60-60.tsv\n"
     ]
    }
   ],
   "source": [
    "!ls -l datasets"
   ]
  }
 ],
 "metadata": {
  "kernelspec": {
   "display_name": "Python 3",
   "language": "python",
   "name": "python3"
  },
  "language_info": {
   "codemirror_mode": {
    "name": "ipython",
    "version": 3
   },
   "file_extension": ".py",
   "mimetype": "text/x-python",
   "name": "python",
   "nbconvert_exporter": "python",
   "pygments_lexer": "ipython3",
   "version": "3.6.4"
  }
 },
 "nbformat": 4,
 "nbformat_minor": 2
}
