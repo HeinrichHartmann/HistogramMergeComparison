{
 "cells": [
  {
   "cell_type": "markdown",
   "metadata": {},
   "source": [
    "# Quantitative Accuracy Comparison Across Histogram Implementations"
   ]
  },
  {
   "cell_type": "code",
   "execution_count": 1,
   "metadata": {},
   "outputs": [],
   "source": [
    "%run preamble.py\n",
    "%matplotlib inline\n",
    "circ = circonusdata.CirconusData(config[\"demo\"])\n",
    "\n",
    "from itertools import zip_longest\n",
    "from circllhist import *\n",
    "import numpy as np"
   ]
  },
  {
   "cell_type": "code",
   "execution_count": 4,
   "metadata": {},
   "outputs": [],
   "source": [
    "HL = data['output[0]']"
   ]
  },
  {
   "cell_type": "code",
   "execution_count": 5,
   "metadata": {},
   "outputs": [],
   "source": [
    "%%script false\n",
    "## VISUALS ###\n",
    "fig = plt.figure(figsize=(30,10))\n",
    "fig.subplots_adjust(hspace = .5)\n",
    "for i,H in enumerate(HL):\n",
    "    ax = plt.subplot(len(HL)/6,6,i+1)\n",
    "    ax.set_xlim(0,200)\n",
    "    # ax.set_title(\"Latency distribution at {}:00 .. {}:00 UTC\".format(i,i+1))\n",
    "    H.plot(ax=ax, alpha=0.5)"
   ]
  },
  {
   "cell_type": "markdown",
   "metadata": {},
   "source": [
    "## Reconstruction from Circllhist\n",
    "\n",
    "As a first step we need to reproduce a version of the orignal data.\n",
    "The precise location of the data within the bins has been lost.\n",
    "We will assume a uniform distribution within the bin for reconstruction."
   ]
  },
  {
   "cell_type": "code",
   "execution_count": 6,
   "metadata": {},
   "outputs": [],
   "source": [
    "def rescale(x):\n",
    "    return x * 3.12 + 0.13\n",
    "\n",
    "def sample_bin(b):\n",
    "    # low, high = b.midpoint - b.width/2, b.midpoint + b.width/2\n",
    "    # return np.random.uniform(low, high)\n",
    "    return rescale(np.random.normal(b.midpoint, b.width/2))\n",
    "\n",
    "def reconstruct(H):\n",
    "    out = np.empty(H.count(), dtype=np.float64)\n",
    "    out_i = 0\n",
    "    for b,c in H:\n",
    "        for i in range(c):\n",
    "            out[out_i] = sample_bin(b) #.midpoint # np.random.uniform(low=low, high=high)\n",
    "            out_i += 1\n",
    "    # randomize order\n",
    "    np.random.shuffle(out)\n",
    "    return out"
   ]
  },
  {
   "cell_type": "code",
   "execution_count": 7,
   "metadata": {},
   "outputs": [],
   "source": [
    "# Test Case\n",
    "# Let's see that we can reconstruct one of the original histograms\n",
    "H = HL[0]\n",
    "L = reconstruct(H)"
   ]
  },
  {
   "cell_type": "code",
   "execution_count": 8,
   "metadata": {},
   "outputs": [
    {
     "name": "stdout",
     "output_type": "stream",
     "text": [
      "844 [ 56.32010295  57.75822168  61.38111712  67.29251821  63.993522  ]\n"
     ]
    }
   ],
   "source": [
    "print(len(L), L[:5])"
   ]
  },
  {
   "cell_type": "code",
   "execution_count": 9,
   "metadata": {},
   "outputs": [],
   "source": [
    "def circllhist_from_valuelist(L):\n",
    "    H = Circllhist()\n",
    "    for v in L: H.insert(v)\n",
    "    return H"
   ]
  },
  {
   "cell_type": "code",
   "execution_count": 10,
   "metadata": {},
   "outputs": [],
   "source": [
    "from itertools import *\n",
    "def circllhist_diff(H,G):\n",
    "    for h,g in zip_longest(H,G):\n",
    "        hbin, hcnt = h\n",
    "        gbin, gcnt = g\n",
    "        if hbin.edge != gbin.edge:\n",
    "            print(\"bin\", hbin, gbin)\n",
    "            return False\n",
    "        if hcnt != gcnt: \n",
    "            print(\"cnt\", hbin, hcnt, gcnt)\n",
    "            return False\n",
    "    return True"
   ]
  },
  {
   "cell_type": "code",
   "execution_count": 11,
   "metadata": {},
   "outputs": [
    {
     "name": "stdout",
     "output_type": "stream",
     "text": [
      "bin +11e-001 +37e-001\n"
     ]
    },
    {
     "data": {
      "text/plain": [
       "False"
      ]
     },
     "execution_count": 11,
     "metadata": {},
     "output_type": "execute_result"
    }
   ],
   "source": [
    "circllhist_diff(H, circllhist_from_valuelist(reconstruct(H)))"
   ]
  },
  {
   "cell_type": "code",
   "execution_count": 12,
   "metadata": {},
   "outputs": [
    {
     "name": "stderr",
     "output_type": "stream",
     "text": [
      "/opt/conda/lib/python3.6/site-packages/matplotlib/cbook/deprecation.py:106: MatplotlibDeprecationWarning: Adding an axes using the same arguments as a previous axes currently reuses the earlier instance.  In a future version, a new instance will always be created and returned.  Meanwhile, this warning can be suppressed, and the future behavior ensured, by passing a unique label to each axes instance.\n",
      "  warnings.warn(message, mplDeprecation, stacklevel=1)\n"
     ]
    },
    {
     "data": {
      "text/plain": [
       "(0, 100)"
      ]
     },
     "execution_count": 12,
     "metadata": {},
     "output_type": "execute_result"
    },
    {
     "data": {
      "image/png": "[encoded data removed]",
      "text/plain": [
       "<matplotlib.figure.Figure at 0x7f1be322da20>"
      ]
     },
     "metadata": {},
     "output_type": "display_data"
    }
   ],
   "source": [
    "ax = plt.subplot(1,1,1)\n",
    "H.plot(axes=ax,alpha=0.2)\n",
    "circllhist_from_valuelist(reconstruct(H)).plot(axes=ax,alpha=0.2)\n",
    "ax.set_xlim(0,100)"
   ]
  },
  {
   "cell_type": "code",
   "execution_count": 13,
   "metadata": {},
   "outputs": [],
   "source": [
    "# OK that worked."
   ]
  },
  {
   "cell_type": "markdown",
   "metadata": {},
   "source": [
    "# Raw dataset"
   ]
  },
  {
   "cell_type": "code",
   "execution_count": 14,
   "metadata": {},
   "outputs": [],
   "source": [
    "RL = [ reconstruct(H) for H in HL if H.count() > 0 ]"
   ]
  },
  {
   "cell_type": "code",
   "execution_count": 15,
   "metadata": {},
   "outputs": [],
   "source": [
    "# Total R\n",
    "RT = np.concatenate(RL)"
   ]
  },
  {
   "cell_type": "code",
   "execution_count": 16,
   "metadata": {},
   "outputs": [],
   "source": [
    "%%script false # SKIP}\n",
    "## VISUALS ##\n",
    "from matplotlib import pyplot as plt\n",
    "import seaborn as sns\n",
    "fig = plt.figure(figsize=(30,60))\n",
    "fig.subplots_adjust(hspace = .8)\n",
    "for i,R in enumerate(RL):\n",
    "    ax = plt.subplot(len(RL),1,i+1)\n",
    "    ax.set_xlim(0,500)\n",
    "    ax.set_title(\"Recorded latencies at {}:00 .. {}:00 UTC\".format(i,i+1))\n",
    "    sns.rugplot(R[::10], ax=ax, alpha=0.5,height=1)"
   ]
  },
  {
   "cell_type": "markdown",
   "metadata": {},
   "source": [
    "# Exact computations\n",
    "\n",
    "For this example we will use the following statistics:\n",
    "\n",
    "- mean\n",
    "- median\n",
    "- p95, p99, p99.9\n",
    "- max\n",
    "\n",
    "and compare the relative errors, of the merged data to the precise data."
   ]
  },
  {
   "cell_type": "code",
   "execution_count": 17,
   "metadata": {},
   "outputs": [],
   "source": [
    "stats = \"mean median p95 p99 p999 p9999 max\".split()"
   ]
  },
  {
   "cell_type": "code",
   "execution_count": 18,
   "metadata": {},
   "outputs": [],
   "source": [
    "stats_np = {\n",
    "    \"mean\"   : lambda R: np.mean(R),\n",
    "    \"median\" : lambda R: np.percentile(R, 50),\n",
    "    \"p95\"    : lambda R: np.percentile(R, 95),\n",
    "    \"p99\"    : lambda R: np.percentile(R, 99),\n",
    "    \"p999\"    : lambda R: np.percentile(R, 99.9),\n",
    "    \"p9999\"    : lambda R: np.percentile(R, 99.99),\n",
    "    \"max\"    : lambda R: np.percentile(R, 100),\n",
    "}"
   ]
  },
  {
   "cell_type": "code",
   "execution_count": 19,
   "metadata": {},
   "outputs": [],
   "source": [
    "stats_total = { k : stats_np[k](RT) for k in stats }"
   ]
  },
  {
   "cell_type": "code",
   "execution_count": 20,
   "metadata": {},
   "outputs": [
    {
     "name": "stdout",
     "output_type": "stream",
     "text": [
      "True stats of the merged dataset\n",
      "                mean              median                 p95                 p99                p999               p9999                 max\n",
      "             195.365              65.485             294.929            3493.242           18694.440           33446.793           37825.126\n"
     ]
    }
   ],
   "source": [
    "print(\"True stats of the merged dataset\")\n",
    "\n",
    "def relative_error_pct(true_val, val):\n",
    "    delta = val - true_val\n",
    "    return delta / true_val * 100\n",
    "\n",
    "def p_head(prefix):\n",
    "    print(prefix + \"\".join([ \"{:>20}\".format(k) for k in stats]))\n",
    "def p_rec(prefix, rec):\n",
    "    print(prefix + \"\".join([ \"{:>20.3f}\".format(rec[k]) for k in stats]))\n",
    "def p_report(name, stats_t):\n",
    "    stats_err = { k: relative_error_pct(stats_total[k], stats_t[k]) for k in stats }\n",
    "    p_rec(name + \"      \", stats_t)\n",
    "    p_rec(name + \" ERR% \", stats_err)    \n",
    "    \n",
    "p_head(\"\")\n",
    "p_rec(\"\", stats_total)"
   ]
  },
  {
   "cell_type": "markdown",
   "metadata": {},
   "source": [
    "# Naive Aggregation: Mean values"
   ]
  },
  {
   "cell_type": "code",
   "execution_count": 21,
   "metadata": {},
   "outputs": [],
   "source": [
    "# Row wise statistics:\n",
    "SL = [ { k : stats_np[k](R) for k in stats }  for R in RL ]"
   ]
  },
  {
   "cell_type": "code",
   "execution_count": 22,
   "metadata": {},
   "outputs": [
    {
     "name": "stdout",
     "output_type": "stream",
     "text": [
      "batch                mean              median                 p95                 p99                p999               p9999                 max\n",
      "    0               66.300              59.949              85.621             166.020             844.008            2315.962            2479.512\n",
      "    1               73.984              60.818             118.592             442.024             797.340             815.789             817.838\n",
      "    2               71.030              60.356              93.636             412.100             899.813            1117.451            1141.634\n",
      "    3              117.507              58.889             286.321            1630.200            4239.707            4462.027            4486.730\n",
      "    4               77.548              56.079             106.574             717.413            2292.155            3108.568            3199.281\n",
      "    5               77.971              56.073             104.302             715.943            2411.662            3382.666            3490.555\n",
      "    6               57.594              51.387              93.153             405.761             637.318             723.618             733.207\n",
      "    7               54.238              52.831              83.850             319.324             394.669             399.604             400.152\n",
      "    8               50.191              49.749              82.577             314.127             416.896             436.092             438.224\n",
      "    9               51.704              52.388              77.424             321.982             571.284             631.175             637.830\n",
      "...\n"
     ]
    }
   ],
   "source": [
    "p_head(\"batch\")\n",
    "for i,S in enumerate(SL[:10]):\n",
    "    p_rec(\"{:>5} \".format(i), S)\n",
    "print(\"...\")"
   ]
  },
  {
   "cell_type": "code",
   "execution_count": 23,
   "metadata": {},
   "outputs": [],
   "source": [
    "# Column Averages"
   ]
  },
  {
   "cell_type": "code",
   "execution_count": 24,
   "metadata": {},
   "outputs": [
    {
     "name": "stdout",
     "output_type": "stream",
     "text": [
      "                             mean              median                 p95                 p99                p999               p9999                 max\n",
      "                          195.365              65.485             294.929            3493.242           18694.440           33446.793           37825.126\n",
      "Average                   174.487             111.766             484.713            1261.812            2020.983            2299.914            2335.437\n",
      "Average ERR%              -10.687              70.674              64.349             -63.878             -89.189             -93.124             -93.826\n"
     ]
    }
   ],
   "source": [
    "stats_avg = { k : np.mean([ S[k] for S in SL ]) for k in stats }\n",
    "\n",
    "p_head(\"             \")\n",
    "p_rec(\"             \",stats_total)\n",
    "p_report(\"Average\", stats_avg)"
   ]
  },
  {
   "cell_type": "markdown",
   "metadata": {},
   "source": [
    "# HRD Histograms"
   ]
  },
  {
   "cell_type": "code",
   "execution_count": 25,
   "metadata": {},
   "outputs": [],
   "source": [
    "HL = [ circllhist_from_valuelist(R) for R in RL  ]"
   ]
  },
  {
   "cell_type": "code",
   "execution_count": 26,
   "metadata": {},
   "outputs": [],
   "source": [
    "HT = Circllhist()\n",
    "for H in HL:\n",
    "    HT.merge(H)"
   ]
  },
  {
   "cell_type": "code",
   "execution_count": 27,
   "metadata": {},
   "outputs": [],
   "source": [
    "stats_circllhist_f = { \n",
    "    \"size\" : lambda H: len(H.to_b64())/4*3,\n",
    "    \"mean\" : lambda H: H.mean(),\n",
    "    \"median\" : lambda H : H.quantile(.5),\n",
    "    \"p95\" : lambda H : H.quantile(.95),\n",
    "    \"p99\" : lambda H : H.quantile(.99),\n",
    "    \"p999\" : lambda H : H.quantile(.999),\n",
    "    \"p9999\" : lambda H : H.quantile(.9999),\n",
    "    \"max\" :   lambda H : H.quantile(1),\n",
    "}"
   ]
  },
  {
   "cell_type": "code",
   "execution_count": 28,
   "metadata": {},
   "outputs": [],
   "source": [
    "stats_circllhist = { k : stats_circllhist_f[k](HT) for k in stats }"
   ]
  },
  {
   "cell_type": "code",
   "execution_count": 29,
   "metadata": {},
   "outputs": [
    {
     "name": "stdout",
     "output_type": "stream",
     "text": [
      "                                mean              median                 p95                 p99                p999               p9999                 max\n",
      "                             195.365              65.485             294.929            3493.242           18694.440           33446.793           37825.126\n",
      "CIRCLLHIST                   195.418              65.490             294.356            3492.782           18729.961           33471.012           38000.000\n",
      "CIRCLLHIST ERR%                0.027               0.008              -0.194              -0.013               0.190               0.072               0.462\n"
     ]
    }
   ],
   "source": [
    "p_head(\"                \")\n",
    "p_rec(\"                \",stats_total)\n",
    "p_report(\"CIRCLLHIST\", stats_circllhist)"
   ]
  },
  {
   "cell_type": "markdown",
   "metadata": {},
   "source": [
    "# T-Digest\n",
    "\n",
    "Python version can't do merges, so we use a JAVA."
   ]
  },
  {
   "cell_type": "code",
   "execution_count": 30,
   "metadata": {},
   "outputs": [],
   "source": [
    "!rm data.csv\n",
    "!rm results.out\n",
    "!rm results.tsv\n",
    "# Export\n",
    "with open(\"data.csv\",\"w\") as fh:\n",
    "    for i,R in enumerate(RL):\n",
    "        for v in R:\n",
    "            fh.write(\"{}\\t{}\\n\".format(i, v))"
   ]
  },
  {
   "cell_type": "code",
   "execution_count": 31,
   "metadata": {},
   "outputs": [
    {
     "name": "stdout",
     "output_type": "stream",
     "text": [
      "HistogramMergeTool\n",
      "- Input Quantile: 0.500000\n",
      "- Input Quantile: 0.900000\n",
      "- Input Quantile: 0.950000\n",
      "- Input Quantile: 0.990000\n",
      "- Input Quantile: 0.999000\n",
      "- Input Quantile: 0.999900\n",
      "- Input Quantile: 1.000000\n",
      "Merging  1006 batches\n",
      "size\t1540\n",
      "q0.500000\t65.493744\n",
      "q0.900000\t115.360240\n",
      "q0.950000\t296.730357\n",
      "q0.990000\t3512.591477\n",
      "q0.999000\t18694.315776\n",
      "q0.999900\t33448.835551\n",
      "q1.000000\t37825.126123\n"
     ]
    }
   ],
   "source": [
    "!cat data.csv | java -jar tdigest-merge-tool.jar .5 .9 .95 .99 .999 .9999 1 | tee results.out"
   ]
  },
  {
   "cell_type": "code",
   "execution_count": 32,
   "metadata": {},
   "outputs": [
    {
     "name": "stdout",
     "output_type": "stream",
     "text": [
      "size\t1540\n",
      "q0.500000\t65.493744\n",
      "q0.900000\t115.360240\n",
      "q0.950000\t296.730357\n",
      "q0.990000\t3512.591477\n",
      "q0.999000\t18694.315776\n",
      "q0.999900\t33448.835551\n",
      "q1.000000\t37825.126123\n",
      "\n",
      "TDigest                       nan              65.494             296.730            3512.591           18694.316           33448.836           37825.126\n",
      "TDigest ERR%                  nan               0.013               0.611               0.554              -0.001               0.006              -0.000\n"
     ]
    }
   ],
   "source": [
    "# Import raw results\n",
    "!cat results.out > results.tsv\n",
    "!cat results.tsv\n",
    "print()\n",
    "def import_results():\n",
    "    with open(\"results.tsv\") as fh:\n",
    "        lines = fh.readlines()\n",
    "    pairs = [ l.strip().split(\"\\t\") for l in lines ]\n",
    "    return {\n",
    "        k : float(v) for k,v in pairs\n",
    "    }\n",
    "\n",
    "res = import_results();\n",
    "\n",
    "stats_td = {\n",
    "    \"size\" : res[\"size\"],\n",
    "    \"mean\" : np.NAN, # not given\n",
    "    \"median\" : res[\"q0.500000\"],\n",
    "    \"p95\"  : res[\"q0.950000\"],\n",
    "    \"p99\"  : res[\"q0.990000\"],\n",
    "    \"p999\" : res[\"q0.999000\"],\n",
    "    \"p9999\": res[\"q0.999900\"],\n",
    "    \"max\"  : res[\"q1.000000\"],\n",
    "}\n",
    "\n",
    "p_report(\"TDigest\", stats_td)"
   ]
  },
  {
   "cell_type": "markdown",
   "metadata": {},
   "source": [
    "# Summary"
   ]
  },
  {
   "cell_type": "code",
   "execution_count": 33,
   "metadata": {},
   "outputs": [
    {
     "name": "stdout",
     "output_type": "stream",
     "text": [
      "\n",
      "\n",
      "### Merging 1440 batches @ 60 seconds ###\n",
      "\n",
      "\n",
      "                                mean              median                 p95                 p99                p999               p9999                 max\n",
      "TOTAL:                       195.365              65.485             294.929            3493.242           18694.440           33446.793           37825.126\n",
      "\n",
      "AVG                          174.487             111.766             484.713            1261.812            2020.983            2299.914            2335.437\n",
      "AVG        ERR%              -10.687              70.674              64.349             -63.878             -89.189             -93.124             -93.826\n",
      "\n",
      "CIRCLLHIST                   195.418              65.490             294.356            3492.782           18729.961           33471.012           38000.000\n",
      "CIRCLLHIST ERR%                0.027               0.008              -0.194              -0.013               0.190               0.072               0.462\n",
      "\n",
      "TDigest                          nan              65.494             296.730            3512.591           18694.316           33448.836           37825.126\n",
      "TDigest    ERR%                  nan               0.013               0.611               0.554              -0.001               0.006              -0.000\n"
     ]
    }
   ],
   "source": [
    "print(\"\\n\\n### Merging {} batches @ {} seconds ###\\n\\n\".format(COUNT, PERIOD))\n",
    "p_head(\"                \")\n",
    "p_rec(\"TOTAL:          \", stats_total)\n",
    "print()\n",
    "p_report(\"AVG       \", stats_avg)\n",
    "print()\n",
    "p_report(\"CIRCLLHIST\", stats_circllhist)\n",
    "print()\n",
    "p_report(\"TDigest   \", stats_td)\n"
   ]
  },
  {
   "cell_type": "code",
   "execution_count": null,
   "metadata": {},
   "outputs": [],
   "source": []
  }
 ],
 "metadata": {
  "kernelspec": {
   "display_name": "Python 3",
   "language": "python",
   "name": "python3"
  },
  "language_info": {
   "codemirror_mode": {
    "name": "ipython",
    "version": 3
   },
   "file_extension": ".py",
   "mimetype": "text/x-python",
   "name": "python",
   "nbconvert_exporter": "python",
   "pygments_lexer": "ipython3",
   "version": "3.6.4"
  }
 },
 "nbformat": 4,
 "nbformat_minor": 2
}
