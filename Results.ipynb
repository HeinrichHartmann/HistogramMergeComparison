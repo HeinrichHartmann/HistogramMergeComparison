{
 "cells": [
  {
   "cell_type": "markdown",
   "metadata": {},
   "source": [
    "# Histogram Merge Comparison Results"
   ]
  },
  {
   "cell_type": "markdown",
   "metadata": {},
   "source": [
    "### Merging 60 batches @ 60 seconds ###\n",
    "```\n",
    "                                mean              median                 p95                 p99                p999               p9999                 max\n",
    "TOTAL:                        48.173              37.700              75.896             357.466            1390.915            3603.184            4488.639\n",
    "\n",
    "AVG                           47.441              37.766              85.777             311.027             784.429             992.448            1016.119\n",
    "AVG        ERR%               -1.520               0.175              13.020             -12.991             -43.603             -72.456             -77.362\n",
    "\n",
    "CIRCLLHIST                    48.173              37.686              75.958             357.832            1394.700            3847.880            4500.000\n",
    "CIRCLLHIST ERR%               -0.000              -0.037               0.082               0.102               0.272               6.791               0.253\n",
    "\n",
    "TDigest                          nan              37.680              76.198             356.407            1350.876            3603.184            4488.639\n",
    "TDigest    ERR%                  nan              -0.053               0.398              -0.296              -2.879               0.000              -0.000\n",
    "```"
   ]
  },
  {
   "cell_type": "markdown",
   "metadata": {},
   "source": [
    "### Merging 1440 batches @ 60 seconds ###\n",
    "```\n",
    "                                mean              median                 p95                 p99                p999               p9999                 max\n",
    "TOTAL:                       195.362              65.533             291.051            3473.846           18752.402           33966.829           41227.369\n",
    "\n",
    "AVG                          174.170             111.497             484.410            1261.905            2028.840            2319.920            2357.292\n",
    "AVG        ERR%              -10.848              70.139              66.435             -63.674             -89.181             -93.170             -94.282\n",
    "\n",
    "CIRCLLHIST                   195.464              65.527             291.069            3469.378           18794.705           33994.923           42000.000\n",
    "CIRCLLHIST ERR%                0.052              -0.009               0.006              -0.129               0.226               0.083               1.874\n",
    "\n",
    "TDigest                          nan              65.541             292.582            3484.965           18663.237           33959.331           41227.369\n",
    "TDigest    ERR%                  nan               0.012               0.526               0.320              -0.475              -0.022               0.000\n",
    "```"
   ]
  },
  {
   "cell_type": "markdown",
   "metadata": {},
   "source": [
    "### Merging 4320 batches @ 60 seconds ###\n",
    "\n",
    "```\n",
    "                                mean              median                 p95                 p99                p999               p9999                 max\n",
    "TOTAL:                       220.966              67.937             326.542            4200.410           18430.860           31378.397           41695.129\n",
    "\n",
    "AVG                          167.927             114.114             435.601            1006.400            1551.721            1748.941            1776.204\n",
    "AVG        ERR%              -24.003              67.969              33.398             -76.040             -91.581             -94.426             -95.740\n",
    "\n",
    "CIRCLLHIST                   221.070              67.939             326.536            4200.399           18465.978           31454.343           42000.000\n",
    "CIRCLLHIST ERR%                0.047               0.003              -0.002              -0.000               0.191               0.242               0.731\n",
    "\n",
    "TDigest                          nan              67.957             348.960            4233.814           18403.906           31452.523           41695.129\n",
    "TDigest    ERR%                  nan               0.029               6.865               0.795              -0.146               0.236              -0.000\n",
    "```"
   ]
  },
  {
   "cell_type": "markdown",
   "metadata": {},
   "source": [
    "### Merging 24 batches @ 3600 seconds ###\n",
    "```\n",
    "                                mean              median                 p95                 p99                p999               p9999                 max\n",
    "TOTAL:                       195.397              65.515             290.726            3468.665           18774.050           34244.469           41989.939\n",
    "\n",
    "AVG                          159.102              70.081             396.729            2259.214            5154.266            7237.445            8672.218\n",
    "AVG        ERR%              -18.575               6.970              36.462             -34.868             -72.546             -78.865             -79.347\n",
    "\n",
    "CIRCLLHIST                   195.472              65.513             290.663            3469.678           18728.847           34201.988           42000.000\n",
    "CIRCLLHIST ERR%                0.038              -0.003              -0.022               0.029              -0.241              -0.124               0.024\n",
    "\n",
    "TDigest                          nan              65.735             300.678            3494.517           18787.130           34268.530           41989.939\n",
    "TDigest    ERR%                  nan               0.337               3.423               0.745               0.070               0.070               0.000\n",
    "```"
   ]
  },
  {
   "cell_type": "code",
   "execution_count": null,
   "metadata": {},
   "outputs": [],
   "source": []
  }
 ],
 "metadata": {
  "kernelspec": {
   "display_name": "Python 3",
   "language": "python",
   "name": "python3"
  },
  "language_info": {
   "codemirror_mode": {
    "name": "ipython",
    "version": 3
   },
   "file_extension": ".py",
   "mimetype": "text/x-python",
   "name": "python",
   "nbconvert_exporter": "python",
   "pygments_lexer": "ipython3",
   "version": "3.6.4"
  }
 },
 "nbformat": 4,
 "nbformat_minor": 2
}
